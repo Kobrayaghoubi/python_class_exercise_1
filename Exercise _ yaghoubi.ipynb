{
 "cells": [
  {
   "cell_type": "markdown",
   "id": "78689622",
   "metadata": {},
   "source": [
    "#### Exercise 1"
   ]
  },
  {
   "cell_type": "code",
   "execution_count": 6,
   "id": "9603bab9",
   "metadata": {},
   "outputs": [
    {
     "name": "stdout",
     "output_type": "stream",
     "text": [
      "input youre list:  11, pooya, 10, 10.5\n",
      "['11', '10']\n"
     ]
    }
   ],
   "source": [
    "list_=input(\"input youre list:  \")\n",
    "new_list=list_.split(', ')\n",
    "list_int_=[]\n",
    "for i in new_list:\n",
    "    if i.isdigit()==True:\n",
    "        int_=int(i)\n",
    "        list_int_.append(i)\n",
    "print(list_int_)\n",
    "    "
   ]
  },
  {
   "cell_type": "markdown",
   "id": "dd81644a",
   "metadata": {},
   "source": [
    "#### Exercise 2"
   ]
  },
  {
   "cell_type": "code",
   "execution_count": 1,
   "id": "0a95fbb4",
   "metadata": {},
   "outputs": [
    {
     "name": "stdout",
     "output_type": "stream",
     "text": [
      " the result of even_numbers are:[236, 162, 104, 58, 24]\n",
      " the result of editor_samples are:[386, 462, 418, 344, 566, 978, 328, 758, 918, 412, 566, 826, 248, 866, 950, 626, 512, 892, 894, 742, 958]\n"
     ]
    }
   ],
   "source": [
    "numbers = [386,462,47,418,907,344,236,375,823,566,597,978,328,\n",
    "          615,953,345,399,162,758,219,918,237,412,566,826,248,\n",
    "          866,950,626,949,687,217,815,67,104,58,512,24,892,894,\n",
    "          767,553,81,379,843,831,445,742,717,958,743,527]\n",
    "even_num = []\n",
    "editor_sample = []\n",
    "\n",
    "for num in numbers:\n",
    "    if  num <237 and num %2 == 0:\n",
    "        even_num.append(num)\n",
    "    elif num >237 and num %2 == 0:\n",
    "        editor_sample.append(num)            \n",
    "        \n",
    "print(f' the result of even_numbers are:{even_num}')  \n",
    "\n",
    "print(f' the result of editor_samples are:{editor_sample}')  \n"
   ]
  },
  {
   "cell_type": "markdown",
   "id": "59296f21",
   "metadata": {},
   "source": [
    "#### Exercise 3"
   ]
  },
  {
   "cell_type": "code",
   "execution_count": 3,
   "id": "9d8ebc44",
   "metadata": {},
   "outputs": [
    {
     "name": "stdout",
     "output_type": "stream",
     "text": [
      "please enter var_1:2\n",
      "please enter var_2:15\n",
      "sum of var_1 , var_2 is : 20\n"
     ]
    }
   ],
   "source": [
    "var_1=int(input(\"please enter var_1:\"))\n",
    "var_2=int(input(\"please enter var_2:\"))\n",
    "if 15< var_1+var_2 <20:\n",
    "    print(f'sum of var_1 , var_2 is : {20}')\n",
    "else:\n",
    "    print(f'sum of var_1 , var_2 is not : {20}')    "
   ]
  },
  {
   "cell_type": "markdown",
   "id": "953e99b7",
   "metadata": {},
   "source": [
    "#### Exercise 4"
   ]
  },
  {
   "cell_type": "code",
   "execution_count": 5,
   "id": "7038c734",
   "metadata": {},
   "outputs": [
    {
     "name": "stdout",
     "output_type": "stream",
     "text": [
      "1 >>>> 3\n",
      "5 >>>> 1\n",
      "6 >>>> 1\n",
      "s >>>> 2\n",
      "pooya >>>> 1\n"
     ]
    }
   ],
   "source": [
    "lst=[1,5,6,1,1,'s','s','pooya']\n",
    "a=0\n",
    "lst_=[]\n",
    "for i in lst:\n",
    "    lst_.append((lst[a],sum(x==lst[a] for x in lst )))\n",
    "    a+=1\n",
    "for key,value in dict(lst_).items():\n",
    "        print(\"%s >>>> %s\" %(key,value))"
   ]
  }
 ],
 "metadata": {
  "kernelspec": {
   "display_name": "Python 3 (ipykernel)",
   "language": "python",
   "name": "python3"
  },
  "language_info": {
   "codemirror_mode": {
    "name": "ipython",
    "version": 3
   },
   "file_extension": ".py",
   "mimetype": "text/x-python",
   "name": "python",
   "nbconvert_exporter": "python",
   "pygments_lexer": "ipython3",
   "version": "3.10.4"
  }
 },
 "nbformat": 4,
 "nbformat_minor": 5
}
